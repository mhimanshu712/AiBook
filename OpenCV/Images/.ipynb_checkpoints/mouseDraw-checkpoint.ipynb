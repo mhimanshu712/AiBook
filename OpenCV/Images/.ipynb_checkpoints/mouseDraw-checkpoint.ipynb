{
 "cells": [
  {
   "cell_type": "code",
   "execution_count": 1,
   "metadata": {},
   "outputs": [
    {
     "ename": "SyntaxError",
     "evalue": "invalid syntax (<ipython-input-1-6c1e0eea303e>, line 35)",
     "output_type": "error",
     "traceback": [
      "\u001b[1;36m  File \u001b[1;32m\"<ipython-input-1-6c1e0eea303e>\"\u001b[1;36m, line \u001b[1;32m35\u001b[0m\n\u001b[1;33m    if cv2.waitKey(1) & 0xFF = 27:\u001b[0m\n\u001b[1;37m                             ^\u001b[0m\n\u001b[1;31mSyntaxError\u001b[0m\u001b[1;31m:\u001b[0m invalid syntax\n"
     ]
    }
   ],
   "source": [
    "import cv2\n",
    "import numpy as np\n",
    "\n",
    "# vars\n",
    "\n",
    "drawing = False\n",
    "ix,iy = -1,-1\n",
    "\n",
    "# funs\n",
    "def draw_rect(event,x,y,flags,params):\n",
    "    global ix,iy,drawing\n",
    "    \n",
    "    if event == cv2.EVENT_LBUTTONDOWN:\n",
    "        drawing = True\n",
    "        ix,iy = x,y\n",
    "    \n",
    "    elif event == cv2.EVENT_MOUSEMOVE:\n",
    "        if drawing == True:\n",
    "            cv2.rectangle(img,(ix,iy),(x,y),(0,255,0),-1)\n",
    "            \n",
    "    elif event == cv2.EVENT_LBUTTONUP:\n",
    "        drawing = False\n",
    "        cv2.rectangle(img,(ix,iy),(x,y),(0,255,0),-1)\n",
    "\n",
    "# show image\n",
    "\n",
    "# blank\n",
    "img = np.zeros((512,512,3))\n",
    "cv2.namedWindow(winname='my_draw')\n",
    "cv2.setMouseCallback('my_draw',draw_rect)\n",
    "\n",
    "while True:\n",
    "    cv2.imshow('my_draw',img)\n",
    "    \n",
    "    if cv2.waitKey(1) & 0xFF == 27:\n",
    "        break\n",
    "        \n",
    "cv2.destroyAllWindows()"
   ]
  },
  {
   "cell_type": "code",
   "execution_count": null,
   "metadata": {},
   "outputs": [],
   "source": []
  }
 ],
 "metadata": {
  "kernelspec": {
   "display_name": "Python 3",
   "language": "python",
   "name": "python3"
  },
  "language_info": {
   "codemirror_mode": {
    "name": "ipython",
    "version": 3
   },
   "file_extension": ".py",
   "mimetype": "text/x-python",
   "name": "python",
   "nbconvert_exporter": "python",
   "pygments_lexer": "ipython3",
   "version": "3.7.6"
  }
 },
 "nbformat": 4,
 "nbformat_minor": 4
}
