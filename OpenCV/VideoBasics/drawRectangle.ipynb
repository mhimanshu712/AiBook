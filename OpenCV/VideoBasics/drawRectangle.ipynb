{
 "cells": [
  {
   "cell_type": "code",
   "execution_count": 3,
   "metadata": {},
   "outputs": [],
   "source": [
    "import cv2\n",
    "\n",
    "\n",
    "## Callback function rectangle\n",
    "def draw_rect(event,x,y,flags,param):\n",
    "    global pt1,pt2,tl_clicked,br_clicked\n",
    "    \n",
    "    if event == cv2.EVENT_LBUTTONDOWN:\n",
    "        \n",
    "        if tl_clicked and br_clicked:\n",
    "            # reset\n",
    "            tl_clicked = False\n",
    "            br_clicked = False\n",
    "        \n",
    "        elif  not tl_clicked:\n",
    "            pt1 = (x,y)\n",
    "            tl_clicked = True\n",
    "        \n",
    "        elif not br_clicked:\n",
    "            pt2 = (x,y)\n",
    "            br_clicked = True\n",
    "        \n",
    "\n",
    "## global variables\n",
    "pt1 = (0,0)\n",
    "pt2 = (0,0)\n",
    "tl_clicked = False\n",
    "br_clicked = False\n",
    "\n",
    "## connect to the callback\n",
    "cap = cv2.VideoCapture(0)\n",
    "\n",
    "cv2.namedWindow('Test')\n",
    "cv2.setMouseCallback('Test',draw_rect)\n",
    "\n",
    "\n",
    "while True:\n",
    "    \n",
    "    ret,frame = cap.read()\n",
    "    frame = cv2.cvtColor(frame,cv2.COLOR_BGR2GRAY)\n",
    "    \n",
    "    #Drawing on frame\n",
    "    if tl_clicked:\n",
    "        cv2.circle(frame,center=pt1,radius=5,color=(0,0,255),thickness=-1)\n",
    "    \n",
    "    if tl_clicked and br_clicked:\n",
    "        cv2.rectangle(frame,pt1,pt2,(0,0,255),5)\n",
    "    \n",
    "    cv2.imshow('Test',frame)\n",
    "    \n",
    "    # waitKey(1) is wait for 1 milisec\n",
    "    if cv2.waitKey(1) & 0xFF == ord('q'):\n",
    "        break\n",
    "        \n",
    "cap.release()\n",
    "cv2.destroyAllWindows()"
   ]
  },
  {
   "cell_type": "code",
   "execution_count": null,
   "metadata": {},
   "outputs": [],
   "source": []
  }
 ],
 "metadata": {
  "kernelspec": {
   "display_name": "Python 3",
   "language": "python",
   "name": "python3"
  },
  "language_info": {
   "codemirror_mode": {
    "name": "ipython",
    "version": 3
   },
   "file_extension": ".py",
   "mimetype": "text/x-python",
   "name": "python",
   "nbconvert_exporter": "python",
   "pygments_lexer": "ipython3",
   "version": "3.7.6"
  }
 },
 "nbformat": 4,
 "nbformat_minor": 4
}
